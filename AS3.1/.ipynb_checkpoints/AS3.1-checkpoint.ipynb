{
 "cells": [
  {
   "cell_type": "markdown",
   "id": "cec91ae6",
   "metadata": {},
   "source": [
    "# AS3.1 - Deep Q-learning Network (Lunar Lander)"
   ]
  },
  {
   "cell_type": "markdown",
   "id": "74ec6e8b",
   "metadata": {},
   "source": [
    "## Imports"
   ]
  },
  {
   "cell_type": "code",
   "execution_count": 1,
   "id": "ea32a0dd",
   "metadata": {
    "scrolled": true
   },
   "outputs": [],
   "source": [
    "import numpy as np\n",
    "import gymnasium as gym\n",
    "from random import randint\n",
    "from collections import namedtuple\n",
    "import torch\n",
    "\n",
    "from src.dqn import DQN\n",
    "from src.agent import Agent\n",
    "from src.policy import Policy\n",
    "from src.memory import Memory"
   ]
  },
  {
   "cell_type": "code",
   "execution_count": 2,
   "id": "bba7f95e",
   "metadata": {},
   "outputs": [
    {
     "name": "stdout",
     "output_type": "stream",
     "text": [
      "Using cpu device\n"
     ]
    }
   ],
   "source": [
    "device = (\n",
    "    \"cuda\"\n",
    "    if torch.cuda.is_available()\n",
    "    else \"mps\"\n",
    "    if torch.backends.mps.is_available()\n",
    "    else \"cpu\"\n",
    ")\n",
    "print(f\"Using {device} device\")"
   ]
  },
  {
   "cell_type": "markdown",
   "id": "c7b0e5bd",
   "metadata": {},
   "source": [
    "<br>\n",
    "\n",
    "# Preparation"
   ]
  },
  {
   "cell_type": "markdown",
   "id": "1c8a0656",
   "metadata": {},
   "source": [
    "## Parameters"
   ]
  },
  {
   "cell_type": "code",
   "execution_count": 3,
   "id": "d5651552",
   "metadata": {},
   "outputs": [],
   "source": [
    "num_epochs = 1000\n",
    "max_steps = 2000\n",
    "avg_reward_threshold = 200\n",
    "\n",
    "learning_rate = 0.001\n",
    "epsilon_start = 0.9\n",
    "epsilon_end = 0.01\n",
    "epsilon_decay = 0.99\n",
    "gamma = 0.99\n",
    "tau = 0.005\n",
    "\n",
    "memory_size = 20000\n",
    "sample_size = 32\n",
    "\n",
    "Transition = namedtuple('Transition', ('state', 'action', 'next_state', 'reward'))"
   ]
  },
  {
   "cell_type": "markdown",
   "id": "b10178e1",
   "metadata": {},
   "source": [
    "## Creating prep Environment"
   ]
  },
  {
   "cell_type": "code",
   "execution_count": 4,
   "id": "0fb76b39",
   "metadata": {},
   "outputs": [],
   "source": [
    "env = gym.make(\"LunarLander-v2\", render_mode=None)"
   ]
  },
  {
   "cell_type": "markdown",
   "id": "3ddf390a",
   "metadata": {},
   "source": [
    "## Defining Models and Optimizer"
   ]
  },
  {
   "cell_type": "code",
   "execution_count": 5,
   "id": "2eac96fa",
   "metadata": {
    "scrolled": true
   },
   "outputs": [
    {
     "name": "stdout",
     "output_type": "stream",
     "text": [
      "DQN(\n",
      "  (l1): Linear(in_features=8, out_features=128, bias=True)\n",
      "  (l2): Linear(in_features=128, out_features=64, bias=True)\n",
      "  (l3): Linear(in_features=64, out_features=4, bias=True)\n",
      ")\n",
      "DQN(\n",
      "  (l1): Linear(in_features=8, out_features=128, bias=True)\n",
      "  (l2): Linear(in_features=128, out_features=64, bias=True)\n",
      "  (l3): Linear(in_features=64, out_features=4, bias=True)\n",
      ")\n"
     ]
    }
   ],
   "source": [
    "policy_net = DQN().to(device)\n",
    "target_net = DQN().to(device)\n",
    "target_net.load_state_dict(policy_net.state_dict())\n",
    "\n",
    "print(policy_net)\n",
    "print(target_net)"
   ]
  },
  {
   "cell_type": "markdown",
   "id": "931ddce1",
   "metadata": {},
   "source": [
    "## Defining Objects"
   ]
  },
  {
   "cell_type": "code",
   "execution_count": 6,
   "id": "94becb44",
   "metadata": {},
   "outputs": [],
   "source": [
    "# Memory class for the Agent\n",
    "me0 = Memory(memory_size)\n",
    "\n",
    "# The Policy class for the Agent\n",
    "p0 = Policy(policy_net, device, env.action_space, epsilon_start, epsilon_end, epsilon_decay)\n",
    "\n",
    "# The Agent class\n",
    "a0 = Agent(me0, p0, device, target_net, sample_size, num_epochs, max_steps, learning_rate, gamma, tau)"
   ]
  },
  {
   "cell_type": "markdown",
   "id": "94d44d71",
   "metadata": {},
   "source": [
    "## Fill memory with some samples"
   ]
  },
  {
   "cell_type": "code",
   "execution_count": 7,
   "id": "5b51162d",
   "metadata": {},
   "outputs": [],
   "source": [
    "a0.policy.neural_net.train(mode=False)\n",
    "a0.target_net.train(mode=False)\n",
    "\n",
    "for i in range(10):  # 10 epochs to fill memory\n",
    "    state = torch.tensor(env.reset(seed=randint(0, 1000))[0], dtype=torch.float32, device=device).unsqueeze(0)\n",
    "    for step in range(max_steps):\n",
    "        # ===== Decide action ===== #\n",
    "        action = a0.policy.select_action(state)\n",
    "\n",
    "        # ===== Take action, observe result ===== #\n",
    "        observation, reward, terminated, truncated, _ = env.step(action.item())\n",
    "        reward = torch.tensor([reward], device=device)\n",
    "\n",
    "        if terminated:\n",
    "            next_state = None\n",
    "        else:\n",
    "            next_state = torch.tensor(observation, dtype=torch.float32, device=device).unsqueeze(0)\n",
    "\n",
    "        # ===== Store Transition ===== #\n",
    "        a0.memory.store(state, action, next_state, reward)\n",
    "        state = next_state\n",
    "\n",
    "        if terminated or truncated:\n",
    "            break\n",
    "\n",
    "env.close()"
   ]
  },
  {
   "cell_type": "code",
   "execution_count": 8,
   "id": "dbe49838",
   "metadata": {},
   "outputs": [
    {
     "name": "stdout",
     "output_type": "stream",
     "text": [
      "726\n"
     ]
    }
   ],
   "source": [
    "print(len(a0.memory.deque))"
   ]
  },
  {
   "cell_type": "markdown",
   "id": "9ec78120",
   "metadata": {},
   "source": [
    "<br>\n",
    "\n",
    "## Training"
   ]
  },
  {
   "cell_type": "code",
   "execution_count": 9,
   "id": "0e382d99",
   "metadata": {},
   "outputs": [],
   "source": [
    "env = gym.make(\"LunarLander-v2\", render_mode=\"human\")"
   ]
  },
  {
   "cell_type": "code",
   "execution_count": 10,
   "id": "80036a59",
   "metadata": {
    "scrolled": false
   },
   "outputs": [
    {
     "name": "stdout",
     "output_type": "stream",
     "text": [
      "Epoch 0 | Epoch rewards: tensor([-599.4292], dtype=torch.float64) | Epsilon: 0.01\n",
      "Epoch 1 | Epoch rewards: tensor([-145.1119], dtype=torch.float64) | Epsilon: 0.01\n",
      "Epoch 2 | Epoch rewards: tensor([-12.9280], dtype=torch.float64) | Epsilon: 0.01\n"
     ]
    }
   ],
   "source": [
    "try:\n",
    "    a0.policy.neural_net.train(mode=True)\n",
    "    a0.target_net.train(mode=True)\n",
    "\n",
    "    rewards = []\n",
    "    for i in range(num_epochs + 1):\n",
    "        epoch_reward = 0\n",
    "        state = torch.tensor(env.reset(seed=randint(0, 1000))[0], dtype=torch.float32, device=device).unsqueeze(0)\n",
    "        for step in range(max_steps):\n",
    "            # ===== Decide action ===== #\n",
    "            action = a0.policy.select_action(state)\n",
    "\n",
    "            # ===== Take action, observe result ===== #\n",
    "            observation, reward, terminated, truncated, _ = env.step(action.item())\n",
    "            reward -= 0.005  # Reward deduction because of thruster usage (fuel)\n",
    "            reward = torch.tensor([reward], device=device)\n",
    "\n",
    "            epoch_reward += reward\n",
    "\n",
    "            if terminated:\n",
    "                next_state = None\n",
    "            else:\n",
    "                next_state = torch.tensor(observation, dtype=torch.float32, device=device).unsqueeze(0)\n",
    "\n",
    "            # ===== Store Transition ===== #\n",
    "            a0.memory.store(state, action, next_state, reward)\n",
    "            state = next_state\n",
    "\n",
    "            # ===== Train the model ===== #\n",
    "            a0.train(sample_size, 0.9, 0.0001, 0.5, 0.001)\n",
    "\n",
    "            if terminated or truncated:\n",
    "                break\n",
    "\n",
    "        rewards.append(epoch_reward)\n",
    "\n",
    "        # ===== Visualization ===== #\n",
    "        print(f\"Epoch {i} | Epoch rewards: {epoch_reward} | Epsilon: {a0.policy.epsilon}\")\n",
    "\n",
    "        if i in [100, 200, 300, 400, 500, 600, 700, 800, 900, 1000]:\n",
    "            run_avg_reward = np.mean(rewards)\n",
    "            if run_avg_reward >= 200:\n",
    "                print(\n",
    "                    f\"\\nTraining done at Epoch {i} | Average reward: {run_avg_reward} | Epsilon is now: {a0.policy.epsilon}\\n\")\n",
    "                rewards = []\n",
    "                break\n",
    "            else:\n",
    "                print(f\"\\nEpoch {i - 100}-{i} | Average reward: {run_avg_reward} | Epsilon is now: {a0.policy.epsilon}\\n\")\n",
    "                rewards = []\n",
    "\n",
    "    env.close()\n",
    "    \n",
    "except KeyboardInterrupt:\n",
    "    env.close()"
   ]
  },
  {
   "cell_type": "code",
   "execution_count": null,
   "id": "849e570b",
   "metadata": {},
   "outputs": [],
   "source": []
  }
 ],
 "metadata": {
  "kernelspec": {
   "display_name": "Python 3 (ipykernel)",
   "language": "python",
   "name": "python3"
  },
  "language_info": {
   "codemirror_mode": {
    "name": "ipython",
    "version": 3
   },
   "file_extension": ".py",
   "mimetype": "text/x-python",
   "name": "python",
   "nbconvert_exporter": "python",
   "pygments_lexer": "ipython3",
   "version": "3.8.8"
  }
 },
 "nbformat": 4,
 "nbformat_minor": 5
}
