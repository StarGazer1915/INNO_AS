{
 "cells": [
  {
   "cell_type": "markdown",
   "id": "cec91ae6",
   "metadata": {},
   "source": [
    "# AS3.1 - Deep Q-learning Network (Lunar Lander)"
   ]
  },
  {
   "cell_type": "markdown",
   "id": "74ec6e8b",
   "metadata": {},
   "source": [
    "## Imports"
   ]
  },
  {
   "cell_type": "code",
   "execution_count": 1,
   "id": "ea32a0dd",
   "metadata": {
    "scrolled": true
   },
   "outputs": [],
   "source": [
    "import numpy as np\n",
    "import gymnasium as gym\n",
    "from random import randint\n",
    "\n",
    "import torch\n",
    "from torch import nn, save, load, from_numpy\n",
    "from torch.optim import Adam\n",
    "from torch.utils.data import DataLoader\n",
    "from torchvision import datasets\n",
    "from torchvision.transforms import ToTensor\n",
    "\n",
    "from src.lmodel import Lmodel\n",
    "from src.agent import Agent\n",
    "from src.policy import Policy\n",
    "from src.memory import Memory"
   ]
  },
  {
   "cell_type": "code",
   "execution_count": 2,
   "id": "bba7f95e",
   "metadata": {},
   "outputs": [
    {
     "name": "stdout",
     "output_type": "stream",
     "text": [
      "Using cpu device\n"
     ]
    }
   ],
   "source": [
    "device = (\n",
    "    \"cuda\"\n",
    "    if torch.cuda.is_available()\n",
    "    else \"mps\"\n",
    "    if torch.backends.mps.is_available()\n",
    "    else \"cpu\"\n",
    ")\n",
    "print(f\"Using {device} device\")"
   ]
  },
  {
   "cell_type": "markdown",
   "id": "c7b0e5bd",
   "metadata": {},
   "source": [
    "<br>\n",
    "\n",
    "# Preparation"
   ]
  },
  {
   "cell_type": "markdown",
   "id": "1c8a0656",
   "metadata": {},
   "source": [
    "## Parameters"
   ]
  },
  {
   "cell_type": "code",
   "execution_count": 3,
   "id": "d5651552",
   "metadata": {},
   "outputs": [],
   "source": [
    "num_epochs = 1000\n",
    "max_steps = 2000\n",
    "avg_reward_threshold = 200\n",
    "\n",
    "learning_rate = 0.01\n",
    "epsilon = 1.0\n",
    "epsilon_decay = 0.99\n",
    "discount = 0.99\n",
    "\n",
    "memory_size = 32000\n",
    "sample_size = 64\n",
    "\n",
    "available_actions = [0,1,2,3]"
   ]
  },
  {
   "cell_type": "markdown",
   "id": "3ddf390a",
   "metadata": {},
   "source": [
    "## Defining Model"
   ]
  },
  {
   "cell_type": "code",
   "execution_count": 4,
   "id": "6c85f742",
   "metadata": {},
   "outputs": [
    {
     "name": "stdout",
     "output_type": "stream",
     "text": [
      "Lmodel(\n",
      "  (l1): Linear(in_features=8, out_features=128, bias=True)\n",
      "  (l2): Linear(in_features=128, out_features=64, bias=True)\n",
      "  (l3): Linear(in_features=64, out_features=4, bias=True)\n",
      ")\n"
     ]
    }
   ],
   "source": [
    "model = Lmodel().to(device)\n",
    "print(model)"
   ]
  },
  {
   "cell_type": "markdown",
   "id": "be0929e0",
   "metadata": {},
   "source": [
    "## Defining Optimizer and Loss function"
   ]
  },
  {
   "cell_type": "code",
   "execution_count": 5,
   "id": "68f1d109",
   "metadata": {},
   "outputs": [],
   "source": [
    "optimizer = Adam(model.parameters(), lr=learning_rate)\n",
    "loss_fn = nn.MSELoss()"
   ]
  },
  {
   "cell_type": "markdown",
   "id": "bc7ea3ec",
   "metadata": {},
   "source": [
    "## Defining Environment"
   ]
  },
  {
   "cell_type": "code",
   "execution_count": 6,
   "id": "4373fefe",
   "metadata": {
    "scrolled": true
   },
   "outputs": [],
   "source": [
    "env = gym.make(\"LunarLander-v2\", render_mode=None)"
   ]
  },
  {
   "cell_type": "markdown",
   "id": "0bf7ac90",
   "metadata": {},
   "source": [
    "## Objects"
   ]
  },
  {
   "cell_type": "code",
   "execution_count": 7,
   "id": "21c0d7a0",
   "metadata": {},
   "outputs": [],
   "source": [
    "# Memory class for the Agent\n",
    "me0 = Memory(memory_size)\n",
    "\n",
    "# The Policy class for the Agent\n",
    "p0 = Policy(model, optimizer, loss_fn, epsilon, available_actions, epsilon_decay)\n",
    "\n",
    "# The Agent class\n",
    "a0 = Agent(env.step, me0, p0, device, sample_size, num_epochs, max_steps, discount)"
   ]
  },
  {
   "cell_type": "markdown",
   "id": "9ec78120",
   "metadata": {},
   "source": [
    "<br>\n",
    "\n",
    "## Training in the Environment"
   ]
  },
  {
   "cell_type": "code",
   "execution_count": 8,
   "id": "80036a59",
   "metadata": {
    "scrolled": false
   },
   "outputs": [
    {
     "name": "stdout",
     "output_type": "stream",
     "text": [
      "state: [ 0.00567751  1.4062866   0.5750638  -0.20594984 -0.00657211 -0.13026059\n",
      "  0.          0.        ]\n",
      "\n",
      "new_state: [ 0.01143074  1.4010701   0.5837586  -0.23190539 -0.01490929 -0.16675857\n",
      "  0.          0.        ]\n",
      "\n",
      "reward: -2.0760949905629205\n",
      "\n",
      "terminated: False\n",
      "\n",
      "truncated: False\n",
      "\n",
      "info: {}\n",
      "\n"
     ]
    }
   ],
   "source": [
    "model.train(mode=True)\n",
    "\n",
    "rewards = []\n",
    "for i in range(num_epochs):\n",
    "    epoch_reward = 0\n",
    "    state, info = env.reset(seed=randint(0, 1000))\n",
    "    for step in range(max_steps):\n",
    "        print(f\"state: {state}\\n\")\n",
    "        \n",
    "        new_state, reward, terminated, truncated, info = a0.train(state)\n",
    "        \n",
    "        print(f\"new_state: {new_state}\\n\")\n",
    "        print(f\"reward: {reward}\\n\")\n",
    "        print(f\"terminated: {terminated}\\n\")\n",
    "        print(f\"truncated: {truncated}\\n\")\n",
    "        print(f\"info: {info}\\n\")\n",
    "        \n",
    "        \n",
    "        \n",
    "        break\n",
    "    break\n",
    "        \n",
    "        \n",
    "        \n",
    "#         # ===== Store Transition ===== #\n",
    "#         transition = (action, reward, state, new_state, terminated)\n",
    "#         a0.memory.store(transition)\n",
    "        \n",
    "#         # ===== Train NN ===== #\n",
    "#         a0.train(available_actions)\n",
    "        \n",
    "#         state = new_state\n",
    "        \n",
    "#         if terminated or truncated:\n",
    "#             break\n",
    "            \n",
    "#     rewards.append(sum(step_rewards))\n",
    "#     a0.decay_epsilon()\n",
    "    \n",
    "#     print(f\"Epoch {i} | Sum step rewards: {sum(step_rewards)} | Epsilon: {a0.policy.epsilon}\")\n",
    "    \n",
    "#     if i in [100, 200, 300, 400, 500, 600, 700, 800, 900, 1000]:\n",
    "#         run_avg_reward = np.mean(rewards)\n",
    "#         if run_avg_reward >= 200:\n",
    "#             print(f\"\\nEpoch {i} | Average Reward: {run_avg_reward} | Epsilon: {a0.policy.epsilon}\\n\")\n",
    "#             rewards = []\n",
    "#             break\n",
    "#         else:\n",
    "#             print(f\"\\nEpoch {i} | Average Reward: {run_avg_reward} | Epsilon: {a0.policy.epsilon}\\n\")\n",
    "#             rewards = []\n",
    "\n",
    "env.close()\n"
   ]
  },
  {
   "cell_type": "markdown",
   "id": "7964794b",
   "metadata": {},
   "source": [
    "<br>\n",
    "\n",
    "## TEST - Running the Environment example"
   ]
  },
  {
   "cell_type": "code",
   "execution_count": 9,
   "id": "47570238",
   "metadata": {
    "scrolled": true
   },
   "outputs": [],
   "source": [
    "# env = gym.make(\"LunarLander-v2\", render_mode=\"human\")\n",
    "# observation, info = env.reset(seed=42)\n",
    "\n",
    "# for i in range(1000):\n",
    "#     action = env.action_space.sample()  # this is where you would insert your policy\n",
    "#     observation, reward, terminated, truncated, info = env.step(action)\n",
    "#     print(f\"\\n1.) observation: {list(observation)}\\n2.) reward: {reward}\\n\"\n",
    "#           f\"3.) available actions: {env.action_space}\\n4.) performed action: {action}\\n\")\n",
    "#     if terminated or truncated:\n",
    "#         observation, info = env.reset()\n",
    "\n",
    "#     break\n",
    "\n",
    "# env.close()"
   ]
  }
 ],
 "metadata": {
  "kernelspec": {
   "display_name": "Python 3 (ipykernel)",
   "language": "python",
   "name": "python3"
  },
  "language_info": {
   "codemirror_mode": {
    "name": "ipython",
    "version": 3
   },
   "file_extension": ".py",
   "mimetype": "text/x-python",
   "name": "python",
   "nbconvert_exporter": "python",
   "pygments_lexer": "ipython3",
   "version": "3.8.8"
  }
 },
 "nbformat": 4,
 "nbformat_minor": 5
}
